{
  "nbformat": 4,
  "nbformat_minor": 0,
  "metadata": {
    "colab": {
      "provenance": [],
      "collapsed_sections": [
        "uNVxyyI1I1_h"
      ]
    },
    "kernelspec": {
      "name": "python3",
      "display_name": "Python 3"
    },
    "language_info": {
      "name": "python"
    }
  },
  "cells": [
    {
      "cell_type": "code",
      "execution_count": null,
      "metadata": {
        "id": "rLK60gw9qjof"
      },
      "outputs": [],
      "source": [
        "import numpy as np\n",
        "from sklearn import datasets\n",
        "import pandas as pd\n",
        "from sklearn.datasets import load_boston\n",
        "import matplotlib.pyplot as plt\n",
        "\n",
        "lr = 10 ** -6"
      ]
    },
    {
      "cell_type": "markdown",
      "source": [
        "Neural Network individual components:"
      ],
      "metadata": {
        "id": "NgPmmeUAF1FT"
      }
    },
    {
      "cell_type": "code",
      "source": [
        "# matrix multiplication XW\n",
        "\n",
        "class matrix_multiplication_layer:\n",
        "  def __init__(self, neurons_count, features_count):\n",
        "    self. X = np.array([])\n",
        "    self.W = np.array([[0 for j in range(neurons_count)] for i in range(features_count)])\n",
        "\n",
        "  def forward_pass(self, X):\n",
        "    self.X = X\n",
        "    # N = XW\n",
        "    N = np.dot(self.X, self.W)\n",
        "    return N\n",
        "\n",
        "  def backward_pass(self, dL_dN):\n",
        "    #dL_dW\n",
        "    dL_dW = np.dot(self.X.T, dL_dN)\n",
        "    self.W = self.W - (lr * dL_dW)\n",
        "\n",
        "    #dL_dX\n",
        "    dL_dX = np.dot(dL_dN, self.W.T)\n",
        "    return dL_dX"
      ],
      "metadata": {
        "id": "-IBUhtBuxvRp"
      },
      "execution_count": null,
      "outputs": []
    },
    {
      "cell_type": "code",
      "source": [
        "# bias addition layer\n",
        "\n",
        "class bias_addition_layer:\n",
        "  def __init__(self, neurons_count):\n",
        "    self.N = np.array([])\n",
        "    self.B = np.array([0 for i in range(neurons_count)])\n",
        "\n",
        "  def forward_pass(self, N):\n",
        "    self.N = N\n",
        "    Z = self.N + self.B\n",
        "    return Z\n",
        "\n",
        "  def backward_pass(self, dL_dZ):\n",
        "    #dL_dB\n",
        "    dL_dB = dL_dZ.sum(axis = 0) # column wise summation\n",
        "    self.B = self.B - (lr * dL_dB)\n",
        "\n",
        "    #dL_dN\n",
        "    dL_dN = dL_dZ\n",
        "    return dL_dN"
      ],
      "metadata": {
        "id": "fXu9ZAG4xonQ"
      },
      "execution_count": null,
      "outputs": []
    },
    {
      "cell_type": "code",
      "source": [
        "#mean squared loss\n",
        "\n",
        "class mse_layer:\n",
        "  def __init__(self):\n",
        "    self.P = np.array([]) # predicted values\n",
        "    self.Y = np.array([]) # actual values\n",
        "\n",
        "  def forward_pass(self, P, Y):\n",
        "    self.P = P\n",
        "    self.Y = Y\n",
        "    mse = np.dot((self.P - self.Y).T, self.P - self.Y)\n",
        "    return mse\n",
        "\n",
        "  def backward_pass(self):\n",
        "    dL_dP = self.P - self.Y\n",
        "    return dL_dP"
      ],
      "metadata": {
        "id": "F1hTtnYOxozG"
      },
      "execution_count": null,
      "outputs": []
    },
    {
      "cell_type": "code",
      "source": [
        "# softmax layer\n",
        "\n",
        "class softmax_layer:\n",
        "  def __init__(self):\n",
        "    self.Z = np.array([])\n",
        "    self.softmax = np.array([])\n",
        "\n",
        "  def forward_pass(self, Z):\n",
        "    self.Z = Z\n",
        "    self.softmax = np.exp(Z)\n",
        "    row_sum_of_exponentials = np.array([[i] for i in self.softmax.sum(axis = 1)])\n",
        "    self.softmax = self.softmax / row_sum_of_exponentials\n",
        "    return self.softmax\n",
        "\n",
        "  def backward_pass(self, dL_dSoftmax):\n",
        "    dL_dZ = []\n",
        "    for i in range(len(dL_dSoftmax)):\n",
        "        cols = len(self.Z[0])\n",
        "        A = np.zeros([cols, cols])\n",
        "        S = self.softmax\n",
        "\n",
        "        for j in range(cols):\n",
        "            for k in range(cols):\n",
        "                if j == k:\n",
        "                    A[j][k] = S[i][j]*(1-S[i][k])\n",
        "                else:\n",
        "                    A[j][k] = -S[i][j]*S[i][k]\n",
        "                    \n",
        "        dL_dZ.append(np.dot(dL_dSoftmax[i], A))\n",
        "    return np.array(dL_dZ)"
      ],
      "metadata": {
        "id": "cC9CIUVAxo6h"
      },
      "execution_count": null,
      "outputs": []
    },
    {
      "cell_type": "code",
      "source": [
        "# sigmoid layer\n",
        "\n",
        "class sigmoid_layer:\n",
        "  def __init__(self):\n",
        "    self.Z = np.array([]) # Z = N + B\n",
        "    self.sigmoid = np.array([])\n",
        "\n",
        "  def forward_pass(self, Z):\n",
        "    self.Z = Z\n",
        "    self.sigmoid = np.exp(-1 * Z)\n",
        "    self.sigmoid = 1 / 1 + self.sigmoid\n",
        "    return self.sigmoid\n",
        "\n",
        "  def backward_pass(self, dL_dSigmoid):\n",
        "    #Z = N + B\n",
        "    dL_dZ = self.sigmoid * (1 - self.sigmoid) * dL_dSigmoid\n",
        "    return dL_dZ"
      ],
      "metadata": {
        "id": "OFpWiEaSxpE4"
      },
      "execution_count": null,
      "outputs": []
    },
    {
      "cell_type": "code",
      "source": [
        "# cross entropy loss layer\n",
        "\n",
        "class cross_entropy_loss_layer:\n",
        "  def __init__(self):\n",
        "    self.P = np.array([]) #predictions\n",
        "    self.Y = np.array([]) #actual labels\n",
        "\n",
        "  def forward_pass(self, P, Y):\n",
        "    self.P = P\n",
        "    self.Y = Y\n",
        "    # finding loss for each row and then adding the lossed of all the rows\n",
        "    cross_entropy_loss = (-1 * Y * np.log(P)).sum(axis = 1).sum(axis = 0)\n",
        "    return np.array([[cross_entropy_loss]])\n",
        "\n",
        "  def backward_pass(self):\n",
        "    #dL_dP\n",
        "    dL_dP = -self.Y / self.P\n",
        "    return dL_dP"
      ],
      "metadata": {
        "id": "SzsqlGxXxpON"
      },
      "execution_count": null,
      "outputs": []
    },
    {
      "cell_type": "markdown",
      "source": [
        "# Q2\n",
        "##### Using the sklearn.load boston() function, obtain boston house pricing dataset. Train a regression model using the operations implemented above. You need to write a stochastic gradient descent function to train."
      ],
      "metadata": {
        "id": "b9Rr6hLGxij9"
      }
    },
    {
      "cell_type": "code",
      "source": [
        "# loading the dataset\n",
        "X, Y = load_boston(return_X_y = True) #return_X_y: If set to True, returns (data, target)"
      ],
      "metadata": {
        "id": "FU6QU7ilxfYl"
      },
      "execution_count": null,
      "outputs": []
    },
    {
      "cell_type": "code",
      "source": [
        "def stochastic_gradient_descent(X, Y, lr, num_of_iterations):\n",
        "  Y= np.array([[i] for i in Y])\n",
        "  loss_values = []\n",
        "\n",
        "  #defining the model\n",
        "  layer1 = matrix_multiplication_layer(1, len(X[0]))\n",
        "  layer2 = bias_addition_layer(1)\n",
        "  layer3 = mse_layer()\n",
        "\n",
        "  def model_forward_pass(curr_training_input, curr_training_label):\n",
        "    # forward pass in model\n",
        "      N = layer1.forward_pass(curr_training_input) #N = XW\n",
        "      P = layer2.forward_pass(N) #P = N + B where P is the model prediction\n",
        "      L = layer3.forward_pass(P, curr_training_label)\n",
        "      return P, L\n",
        "\n",
        "  # training the model\n",
        "  for iter in range(num_of_iterations):\n",
        "    for j in range(len(X)): # taking each sample one by one\n",
        "      curr_training_input = np.array([X[j]])\n",
        "      curr_training_label = Y[j]\n",
        "\n",
        "      model_forward_pass(curr_training_input, curr_training_label)\n",
        "\n",
        "      #backward pass in model and updating the weights and bias along the way\n",
        "      dL_dP = layer3.backward_pass()\n",
        "      dL_dN = layer2.backward_pass(dL_dP)\n",
        "      dL_dX = layer1.backward_pass(dL_dN)\n",
        "    \n",
        "    #calculating the overall loss after updation of weights\n",
        "    _, L = model_forward_pass(X, Y)\n",
        "    loss_values.append(L[0][0])\n",
        "\n",
        "    if iter % (num_of_iterations / 20) == 0:\n",
        "      print(\"Current iteration =\", iter)\n",
        "  print(\"Training done.\")\n",
        "\n",
        "  return loss_values"
      ],
      "metadata": {
        "id": "CIYceZuv9FGC"
      },
      "execution_count": null,
      "outputs": []
    },
    {
      "cell_type": "code",
      "source": [
        "loss_values = stochastic_gradient_descent(X, Y, 0.01, 2000)\n",
        "plt.scatter(range(len(loss_values)),loss_values)\n",
        "plt.show()"
      ],
      "metadata": {
        "colab": {
          "base_uri": "https://localhost:8080/",
          "height": 629
        },
        "id": "kSSA_Fjy9TVy",
        "outputId": "aa021a21-3450-46de-f0e6-4256248a0aab"
      },
      "execution_count": null,
      "outputs": [
        {
          "output_type": "stream",
          "name": "stdout",
          "text": [
            "Current iteration = 0\n",
            "Current iteration = 100\n",
            "Current iteration = 200\n",
            "Current iteration = 300\n",
            "Current iteration = 400\n",
            "Current iteration = 500\n",
            "Current iteration = 600\n",
            "Current iteration = 700\n",
            "Current iteration = 800\n",
            "Current iteration = 900\n",
            "Current iteration = 1000\n",
            "Current iteration = 1100\n",
            "Current iteration = 1200\n",
            "Current iteration = 1300\n",
            "Current iteration = 1400\n",
            "Current iteration = 1500\n",
            "Current iteration = 1600\n",
            "Current iteration = 1700\n",
            "Current iteration = 1800\n",
            "Current iteration = 1900\n",
            "Training done.\n"
          ]
        },
        {
          "output_type": "display_data",
          "data": {
            "text/plain": [
              "<Figure size 432x288 with 1 Axes>"
            ],
            "image/png": "[encoded data removed]"
          },
          "metadata": {
            "needs_background": "light"
          }
        }
      ]
    },
    {
      "cell_type": "markdown",
      "source": [
        "# Q3\n",
        "##### Load the iris dataset in sklearn. This data sets consists of 3 different types of irises’ (Setosa, Versicolour, and Virginica) petal and sepal length, stored in a 150x4 numpy.ndarray. Using the operations implemented above create a multi-class classifier (Cross entropy loss + soft max)"
      ],
      "metadata": {
        "id": "uNVxyyI1I1_h"
      }
    },
    {
      "cell_type": "code",
      "source": [
        "# loading dataset\n",
        "X_iris, Y_iris = datasets.load_iris(return_X_y=True) #(training data, label)\n",
        "\n",
        "num_of_labels = 3 # Setosa, Versicolour, and Virginica\n",
        "# one hot encoding on true labels\n",
        "y = np.zeros((len(X_iris), num_of_labels))\n",
        "for i in range(len(X_iris)):\n",
        "  y[i][Y_iris[i]] = 1\n",
        "Y_iris = y"
      ],
      "metadata": {
        "id": "e3_IV15DI25h"
      },
      "execution_count": null,
      "outputs": []
    },
    {
      "cell_type": "code",
      "source": [
        "def full_batch_gradient_descent(X, Y, lr, num_of_iterations):\n",
        "  loss_values = [] # to store loss values after each iteration\n",
        "\n",
        "  #defining the model\n",
        "  layer1 = matrix_multiplication_layer(num_of_labels, len(X[0]))\n",
        "  layer2 = bias_addition_layer(num_of_labels)\n",
        "  layer3 = softmax_layer()\n",
        "  layer4 = cross_entropy_loss_layer()\n",
        "\n",
        "  def model_forward_pass():\n",
        "    # forward pass of model and returns the predictions and the loss value\n",
        "    N = layer1.forward_pass(X)\n",
        "    Z = layer2.forward_pass(N)\n",
        "    P = layer3.forward_pass(Z)\n",
        "    L = layer4.forward_pass(P, Y)\n",
        "    return P, L # returns prediction and loss\n",
        "\n",
        "  def model_backward_pass():\n",
        "    # updating weights and biases\n",
        "    dL_dP = layer4.backward_pass()\n",
        "    dL_dZ = layer3.backward_pass(dL_dP)\n",
        "    dL_dN = layer2.backward_pass(dL_dZ)\n",
        "    dL_dX = layer1.backward_pass(dL_dN)\n",
        "\n",
        "  for iter in range(num_of_iterations):\n",
        "    model_forward_pass()\n",
        "    model_backward_pass()\n",
        "    predictions, loss = model_forward_pass() #forward pass after updation of weights and biases\n",
        "    loss_values.append(loss)\n",
        "\n",
        "    if iter % (num_of_iterations / 20) == 0:\n",
        "      print(\"current iteration =\", iter)\n",
        "\n",
        "  #forward pass of model after all the iterations are done\n",
        "  final_predictions, final_loss = model_forward_pass()\n",
        "\n",
        "  # computing model accuracy\n",
        "  correct_predictions = 0\n",
        "  for i in range(len(final_predictions)):\n",
        "    index_of_predicted_value = np.argmax(final_predictions[i])\n",
        "    if Y[i][index_of_predicted_value] == 1:\n",
        "      correct_predictions += 1\n",
        "\n",
        "  print(\"Final accuracy of the model =\", correct_predictions / len(final_predictions))\n",
        "  return loss_values"
      ],
      "metadata": {
        "id": "v6Zf5VYiJEMd"
      },
      "execution_count": null,
      "outputs": []
    },
    {
      "cell_type": "code",
      "source": [
        "loss_values = full_batch_gradient_descent(X_iris, Y_iris, 0.01, 10000)\n",
        "plt.scatter(range(len(loss_values)),loss_values)\n",
        "plt.show()"
      ],
      "metadata": {
        "id": "YUgsTXQkJEUL",
        "colab": {
          "base_uri": "https://localhost:8080/",
          "height": 629
        },
        "outputId": "89d9756b-9b8b-439b-ab9f-f116ca83395a"
      },
      "execution_count": null,
      "outputs": [
        {
          "output_type": "stream",
          "name": "stdout",
          "text": [
            "current iteration = 0\n",
            "current iteration = 500\n",
            "current iteration = 1000\n",
            "current iteration = 1500\n",
            "current iteration = 2000\n",
            "current iteration = 2500\n",
            "current iteration = 3000\n",
            "current iteration = 3500\n",
            "current iteration = 4000\n",
            "current iteration = 4500\n",
            "current iteration = 5000\n",
            "current iteration = 5500\n",
            "current iteration = 6000\n",
            "current iteration = 6500\n",
            "current iteration = 7000\n",
            "current iteration = 7500\n",
            "current iteration = 8000\n",
            "current iteration = 8500\n",
            "current iteration = 9000\n",
            "current iteration = 9500\n",
            "Final accuracy of the model = 0.7066666666666667\n"
          ]
        },
        {
          "output_type": "display_data",
          "data": {
            "text/plain": [
              "<Figure size 432x288 with 1 Axes>"
            ],
            "image/png": "[encoded data removed]"
          },
          "metadata": {
            "needs_background": "light"
          }
        }
      ]
    },
    {
      "cell_type": "code",
      "source": [],
      "metadata": {
        "id": "IQ-qkXJa8c3f"
      },
      "execution_count": null,
      "outputs": []
    }
  ]
}